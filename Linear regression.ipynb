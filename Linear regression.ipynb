# Importing libraries
import numpy as np
import matplotlib.pyplot as plt
from sklearn.linear_model import LinearRegression
from sklearn.metrics import mean_squared_error, r2_score

# Step 1: Data (Age vs Pocket Money)
X = np.array([5, 6, 7, 8, 9]).reshape(-1, 1)  # Independent variable (Age)
y = np.array([10, 15, 20, 25, 30])           # Dependent variable (Money)

# Step 2: Model
model = LinearRegression()
model.fit(X, y)

# Step 3: Predictions
y_pred = model.predict(X)

# Step 4: Visualization
plt.scatter(X, y, color='blue', label='Actual Data')
plt.plot(X, y_pred, color='red', label='Prediction Line')
plt.xlabel("Age")
plt.ylabel("Pocket Money")
plt.title("Linear Regression - Age vs Pocket Money")
plt.legend()
plt.show()

# Step 5: Coefficients
print("Slope (b1):", model.coef_[0])
print("Intercept (b0):", model.intercept_)

# Step 6: Evaluation
print("Mean Squared Error:", mean_squared_error(y, y_pred))
print("R^2 Score:", r2_score(y, y_pred))
